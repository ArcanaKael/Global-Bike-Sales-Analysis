{
 "cells": [
  {
   "cell_type": "markdown",
   "id": "69076422",
   "metadata": {},
   "source": [
    "```\n",
    "In this notebook, we will perform Data Validation test with Python's Great Expectation (GX)\n",
    "```"
   ]
  },
  {
   "cell_type": "markdown",
   "id": "3cd55234",
   "metadata": {},
   "source": [
    "# 1. Instantiate Data Context"
   ]
  },
  {
   "cell_type": "code",
   "execution_count": 1,
   "id": "339a3540",
   "metadata": {},
   "outputs": [],
   "source": [
    "# Create a data context\n",
    "\n",
    "from great_expectations.data_context import FileDataContext\n",
    "\n",
    "context = FileDataContext.create(project_root_dir='./')"
   ]
  },
  {
   "cell_type": "markdown",
   "id": "da0a40d1",
   "metadata": {},
   "source": [
    "# 2. Connect to a Datasource"
   ]
  },
  {
   "cell_type": "code",
   "execution_count": 2,
   "id": "7ad983bb",
   "metadata": {},
   "outputs": [],
   "source": [
    "# Give a name to a Datasource. This name must be unique between Datasources.\n",
    "datasource_name = 'csv-milestone-3'\n",
    "datasource = context.sources.add_pandas(datasource_name)\n",
    "\n",
    "# Give a name to a data asset\n",
    "asset_name = 'bike-sales'\n",
    "path_to_data = 'D:\\project-m3\\P2M3_arcana_data_clean.csv'\n",
    "asset = datasource.add_csv_asset(asset_name, filepath_or_buffer=path_to_data)\n",
    "\n",
    "# Build batch request\n",
    "batch_request = asset.build_batch_request()"
   ]
  },
  {
   "cell_type": "markdown",
   "id": "d3bce1f7",
   "metadata": {},
   "source": [
    "# 3. Create an Expectation Suite"
   ]
  },
  {
   "cell_type": "code",
   "execution_count": 3,
   "id": "12952580",
   "metadata": {},
   "outputs": [
    {
     "data": {
      "application/vnd.jupyter.widget-view+json": {
       "model_id": "025f38e3a7364e1f813872599fb114dd",
       "version_major": 2,
       "version_minor": 0
      },
      "text/plain": [
       "Calculating Metrics:   0%|          | 0/1 [00:00<?, ?it/s]"
      ]
     },
     "metadata": {},
     "output_type": "display_data"
    },
    {
     "data": {
      "text/html": [
       "<div>\n",
       "<style scoped>\n",
       "    .dataframe tbody tr th:only-of-type {\n",
       "        vertical-align: middle;\n",
       "    }\n",
       "\n",
       "    .dataframe tbody tr th {\n",
       "        vertical-align: top;\n",
       "    }\n",
       "\n",
       "    .dataframe thead th {\n",
       "        text-align: right;\n",
       "    }\n",
       "</style>\n",
       "<table border=\"1\" class=\"dataframe\">\n",
       "  <thead>\n",
       "    <tr style=\"text-align: right;\">\n",
       "      <th></th>\n",
       "      <th>date</th>\n",
       "      <th>day</th>\n",
       "      <th>month</th>\n",
       "      <th>year</th>\n",
       "      <th>customer_age</th>\n",
       "      <th>age_group</th>\n",
       "      <th>customer_gender</th>\n",
       "      <th>country</th>\n",
       "      <th>state</th>\n",
       "      <th>product_category</th>\n",
       "      <th>sub_category</th>\n",
       "      <th>product</th>\n",
       "      <th>order_quantity</th>\n",
       "      <th>unit_cost</th>\n",
       "      <th>unit_price</th>\n",
       "      <th>profit</th>\n",
       "      <th>cost</th>\n",
       "      <th>revenue</th>\n",
       "    </tr>\n",
       "  </thead>\n",
       "  <tbody>\n",
       "    <tr>\n",
       "      <th>0</th>\n",
       "      <td>2013-11-26</td>\n",
       "      <td>26</td>\n",
       "      <td>November</td>\n",
       "      <td>2013</td>\n",
       "      <td>19</td>\n",
       "      <td>Youth (&lt;25)</td>\n",
       "      <td>M</td>\n",
       "      <td>Canada</td>\n",
       "      <td>British Columbia</td>\n",
       "      <td>Accessories</td>\n",
       "      <td>Bike Racks</td>\n",
       "      <td>Hitch Rack - 4-Bike</td>\n",
       "      <td>8</td>\n",
       "      <td>45</td>\n",
       "      <td>120</td>\n",
       "      <td>590</td>\n",
       "      <td>360</td>\n",
       "      <td>950</td>\n",
       "    </tr>\n",
       "    <tr>\n",
       "      <th>1</th>\n",
       "      <td>2015-11-26</td>\n",
       "      <td>26</td>\n",
       "      <td>November</td>\n",
       "      <td>2015</td>\n",
       "      <td>19</td>\n",
       "      <td>Youth (&lt;25)</td>\n",
       "      <td>M</td>\n",
       "      <td>Canada</td>\n",
       "      <td>British Columbia</td>\n",
       "      <td>Accessories</td>\n",
       "      <td>Bike Racks</td>\n",
       "      <td>Hitch Rack - 4-Bike</td>\n",
       "      <td>8</td>\n",
       "      <td>45</td>\n",
       "      <td>120</td>\n",
       "      <td>590</td>\n",
       "      <td>360</td>\n",
       "      <td>950</td>\n",
       "    </tr>\n",
       "    <tr>\n",
       "      <th>2</th>\n",
       "      <td>2014-03-23</td>\n",
       "      <td>23</td>\n",
       "      <td>March</td>\n",
       "      <td>2014</td>\n",
       "      <td>49</td>\n",
       "      <td>Adults (35-64)</td>\n",
       "      <td>M</td>\n",
       "      <td>Australia</td>\n",
       "      <td>New South Wales</td>\n",
       "      <td>Accessories</td>\n",
       "      <td>Bike Racks</td>\n",
       "      <td>Hitch Rack - 4-Bike</td>\n",
       "      <td>23</td>\n",
       "      <td>45</td>\n",
       "      <td>120</td>\n",
       "      <td>1366</td>\n",
       "      <td>1035</td>\n",
       "      <td>2401</td>\n",
       "    </tr>\n",
       "    <tr>\n",
       "      <th>3</th>\n",
       "      <td>2016-03-23</td>\n",
       "      <td>23</td>\n",
       "      <td>March</td>\n",
       "      <td>2016</td>\n",
       "      <td>49</td>\n",
       "      <td>Adults (35-64)</td>\n",
       "      <td>M</td>\n",
       "      <td>Australia</td>\n",
       "      <td>New South Wales</td>\n",
       "      <td>Accessories</td>\n",
       "      <td>Bike Racks</td>\n",
       "      <td>Hitch Rack - 4-Bike</td>\n",
       "      <td>20</td>\n",
       "      <td>45</td>\n",
       "      <td>120</td>\n",
       "      <td>1188</td>\n",
       "      <td>900</td>\n",
       "      <td>2088</td>\n",
       "    </tr>\n",
       "    <tr>\n",
       "      <th>4</th>\n",
       "      <td>2014-05-15</td>\n",
       "      <td>15</td>\n",
       "      <td>May</td>\n",
       "      <td>2014</td>\n",
       "      <td>47</td>\n",
       "      <td>Adults (35-64)</td>\n",
       "      <td>F</td>\n",
       "      <td>Australia</td>\n",
       "      <td>New South Wales</td>\n",
       "      <td>Accessories</td>\n",
       "      <td>Bike Racks</td>\n",
       "      <td>Hitch Rack - 4-Bike</td>\n",
       "      <td>4</td>\n",
       "      <td>45</td>\n",
       "      <td>120</td>\n",
       "      <td>238</td>\n",
       "      <td>180</td>\n",
       "      <td>418</td>\n",
       "    </tr>\n",
       "  </tbody>\n",
       "</table>\n",
       "</div>"
      ],
      "text/plain": [
       "         date  day     month  year  customer_age       age_group  \\\n",
       "0  2013-11-26   26  November  2013            19     Youth (<25)   \n",
       "1  2015-11-26   26  November  2015            19     Youth (<25)   \n",
       "2  2014-03-23   23     March  2014            49  Adults (35-64)   \n",
       "3  2016-03-23   23     March  2016            49  Adults (35-64)   \n",
       "4  2014-05-15   15       May  2014            47  Adults (35-64)   \n",
       "\n",
       "  customer_gender    country             state product_category sub_category  \\\n",
       "0               M     Canada  British Columbia      Accessories   Bike Racks   \n",
       "1               M     Canada  British Columbia      Accessories   Bike Racks   \n",
       "2               M  Australia   New South Wales      Accessories   Bike Racks   \n",
       "3               M  Australia   New South Wales      Accessories   Bike Racks   \n",
       "4               F  Australia   New South Wales      Accessories   Bike Racks   \n",
       "\n",
       "               product  order_quantity  unit_cost  unit_price  profit  cost  \\\n",
       "0  Hitch Rack - 4-Bike               8         45         120     590   360   \n",
       "1  Hitch Rack - 4-Bike               8         45         120     590   360   \n",
       "2  Hitch Rack - 4-Bike              23         45         120    1366  1035   \n",
       "3  Hitch Rack - 4-Bike              20         45         120    1188   900   \n",
       "4  Hitch Rack - 4-Bike               4         45         120     238   180   \n",
       "\n",
       "   revenue  \n",
       "0      950  \n",
       "1      950  \n",
       "2     2401  \n",
       "3     2088  \n",
       "4      418  "
      ]
     },
     "execution_count": 3,
     "metadata": {},
     "output_type": "execute_result"
    }
   ],
   "source": [
    "# Creat an expectation suite\n",
    "expectation_suite_name = 'expectation-bike-dataset'\n",
    "context.add_or_update_expectation_suite(expectation_suite_name)\n",
    "\n",
    "# Create a validator using above expectation suite\n",
    "validator = context.get_validator(\n",
    "    batch_request = batch_request,\n",
    "    expectation_suite_name = expectation_suite_name\n",
    ")\n",
    "\n",
    "# Check the validator\n",
    "validator.head()"
   ]
  },
  {
   "cell_type": "markdown",
   "id": "c0e0b8f4",
   "metadata": {},
   "source": [
    "## 3.1 Expectations\n",
    "### Expectation 1 --> to be unique\n",
    "```\n",
    "Expectation di bawah ini digunakan untuk memastikan bahwa setiap nilai dalam kolom 'date' adalah unik, \n",
    "artinya tidak ada tanggal yang berulang dalam dataset.\n",
    "```"
   ]
  },
  {
   "cell_type": "code",
   "execution_count": 15,
   "id": "217d2c13",
   "metadata": {},
   "outputs": [
    {
     "data": {
      "application/vnd.jupyter.widget-view+json": {
       "model_id": "8ea70ed0dc56443c8d9c3a51d25fb619",
       "version_major": 2,
       "version_minor": 0
      },
      "text/plain": [
       "Calculating Metrics:   0%|          | 0/8 [00:00<?, ?it/s]"
      ]
     },
     "metadata": {},
     "output_type": "display_data"
    },
    {
     "data": {
      "text/plain": [
       "{\n",
       "  \"meta\": {},\n",
       "  \"exception_info\": {\n",
       "    \"raised_exception\": false,\n",
       "    \"exception_traceback\": null,\n",
       "    \"exception_message\": null\n",
       "  },\n",
       "  \"success\": false,\n",
       "  \"result\": {\n",
       "    \"element_count\": 9866,\n",
       "    \"unexpected_count\": 9860,\n",
       "    \"unexpected_percent\": 99.93918508007297,\n",
       "    \"partial_unexpected_list\": [\n",
       "      \"2013-11-26\",\n",
       "      \"2015-11-26\",\n",
       "      \"2014-03-23\",\n",
       "      \"2016-03-23\",\n",
       "      \"2014-05-15\",\n",
       "      \"2016-05-15\",\n",
       "      \"2014-05-22\",\n",
       "      \"2016-05-22\",\n",
       "      \"2014-02-22\",\n",
       "      \"2016-02-22\",\n",
       "      \"2013-07-30\",\n",
       "      \"2015-07-30\",\n",
       "      \"2013-07-15\",\n",
       "      \"2015-07-15\",\n",
       "      \"2013-08-02\",\n",
       "      \"2015-08-02\",\n",
       "      \"2013-09-02\",\n",
       "      \"2015-09-02\",\n",
       "      \"2014-01-22\",\n",
       "      \"2016-01-22\"\n",
       "    ],\n",
       "    \"missing_count\": 0,\n",
       "    \"missing_percent\": 0.0,\n",
       "    \"unexpected_percent_total\": 99.93918508007297,\n",
       "    \"unexpected_percent_nonmissing\": 99.93918508007297\n",
       "  }\n",
       "}"
      ]
     },
     "execution_count": 15,
     "metadata": {},
     "output_type": "execute_result"
    }
   ],
   "source": [
    "# Expectation 1 : Column `date` must be unique\n",
    "validator.expect_column_values_to_be_unique('date')"
   ]
  },
  {
   "cell_type": "markdown",
   "id": "5b37c717",
   "metadata": {},
   "source": [
    "outputnya ```\"success\": false``` karena kolom ```date``` tidak dapat dianggap unik karena dalam satu tanggal yang sama, bisa terjadi banyak transaksi di berbagai negara atau lokasi, dengan produk dan pelanggan yang berbeda-beda. Oleh karena itu, kemunculan nilai yang berulang dalam kolom seperti ```date```, ```product```, atau ```state``` merupakan hal yang wajar dan mencerminkan karakteristik data transaksi secara umum. \n",
    "Maka untuk memastikan tiap baris benar-benar unik (mewakili 1 transaksi), saya akan buat kolom baru yang berisi gabungan kolom-kolom."
   ]
  },
  {
   "cell_type": "code",
   "execution_count": 10,
   "id": "e55d5a19",
   "metadata": {},
   "outputs": [
    {
     "data": {
      "application/vnd.jupyter.widget-view+json": {
       "model_id": "77c2243b63d6475e91319a7e1ca837c0",
       "version_major": 2,
       "version_minor": 0
      },
      "text/plain": [
       "Calculating Metrics:   0%|          | 0/8 [00:00<?, ?it/s]"
      ]
     },
     "metadata": {},
     "output_type": "display_data"
    },
    {
     "data": {
      "text/plain": [
       "{\n",
       "  \"meta\": {},\n",
       "  \"exception_info\": {\n",
       "    \"raised_exception\": false,\n",
       "    \"exception_traceback\": null,\n",
       "    \"exception_message\": null\n",
       "  },\n",
       "  \"success\": true,\n",
       "  \"result\": {\n",
       "    \"element_count\": 9866,\n",
       "    \"unexpected_count\": 0,\n",
       "    \"unexpected_percent\": 0.0,\n",
       "    \"partial_unexpected_list\": [],\n",
       "    \"missing_count\": 0,\n",
       "    \"missing_percent\": 0.0,\n",
       "    \"unexpected_percent_total\": 0.0,\n",
       "    \"unexpected_percent_nonmissing\": 0.0\n",
       "  }\n",
       "}"
      ]
     },
     "execution_count": 10,
     "metadata": {},
     "output_type": "execute_result"
    }
   ],
   "source": [
    "df = validator.active_batch.data.dataframe\n",
    "\n",
    "# Tambah kolom sementara\n",
    "df['unique_key'] = (\n",
    "    df['date'].astype(str) + \"_\" +\n",
    "    df['product'] + \"_\" +\n",
    "    df['state'] + \"_\" +\n",
    "    df['order_quantity'].astype(str) + \"_\" +\n",
    "    df['unit_price'].astype(str) + \"_\" +\n",
    "    df['customer_gender'] + \"_\" +\n",
    "    df['customer_age'].astype(str)\n",
    ")\n",
    "\n",
    "\n",
    "# Buat validator sementara dari dataframe baru\n",
    "temp_validator = context.sources.pandas_default.read_dataframe(df)\n",
    "\n",
    "# Jalankan expectation di validator baru\n",
    "temp_validator.expect_column_values_to_be_unique('unique_key')\n",
    "\n"
   ]
  },
  {
   "cell_type": "markdown",
   "id": "0e258eac",
   "metadata": {},
   "source": [
    "Dengan menggunakan kombinasi kolom sebagai unique_key, tidak ditemukan satupun duplikat, sehingga expectation expect_column_values_to_be_unique berhasil terpenuhi (success: true). Ini mengindikasikan bahwa setiap baris dalam data mewakili satu transaksi yang benar-benar unik dari sisi waktu, produk, lokasi, jumlah pembelian, harga, serta karakteristik pelanggan"
   ]
  },
  {
   "cell_type": "markdown",
   "id": "e343ea9d",
   "metadata": {},
   "source": [
    "### Expectation 2 --> to be between min_value and max_value\n",
    "```\n",
    "Expectation di bawah ini digunakan untuk memverifikasi bahwa setiap nilai dalam kolom 'unit_cost'\n",
    "berada dalam rentang nilai yang diharapkan, yaitu antara 0 hingga 100.\n",
    "```"
   ]
  },
  {
   "cell_type": "code",
   "execution_count": 5,
   "id": "bf2a3ef1",
   "metadata": {},
   "outputs": [
    {
     "data": {
      "application/vnd.jupyter.widget-view+json": {
       "model_id": "15153806b8324748a31a0ea57a92ba77",
       "version_major": 2,
       "version_minor": 0
      },
      "text/plain": [
       "Calculating Metrics:   0%|          | 0/8 [00:00<?, ?it/s]"
      ]
     },
     "metadata": {},
     "output_type": "display_data"
    },
    {
     "data": {
      "text/plain": [
       "{\n",
       "  \"meta\": {},\n",
       "  \"exception_info\": {\n",
       "    \"raised_exception\": false,\n",
       "    \"exception_traceback\": null,\n",
       "    \"exception_message\": null\n",
       "  },\n",
       "  \"success\": true,\n",
       "  \"result\": {\n",
       "    \"element_count\": 9866,\n",
       "    \"unexpected_count\": 0,\n",
       "    \"unexpected_percent\": 0.0,\n",
       "    \"partial_unexpected_list\": [],\n",
       "    \"missing_count\": 0,\n",
       "    \"missing_percent\": 0.0,\n",
       "    \"unexpected_percent_total\": 0.0,\n",
       "    \"unexpected_percent_nonmissing\": 0.0\n",
       "  }\n",
       "}"
      ]
     },
     "execution_count": 5,
     "metadata": {},
     "output_type": "execute_result"
    }
   ],
   "source": [
    "# Expectation 2 : Column `unit_cost` must be less than $ 100\n",
    "validator.expect_column_values_to_be_between(\n",
    "    column='unit_cost', min_value=0, max_value=100\n",
    ")"
   ]
  },
  {
   "cell_type": "markdown",
   "id": "ca41c8d1",
   "metadata": {},
   "source": [
    "- Validasi kolom unit_cost berhasil, seluruh nilainya berada dalam rentang 0 hingga 100.\n",
    "- Dari sudut pandang bisnis, kisaran biaya unit antara 0 hingga 100 dianggap masuk akal karena mencerminkan nilai umum dari biaya bahan baku, biaya produksi, atau biaya logistik pada produk-produk konsumen seperti sepeda dan aksesorinya. Banyak perusahaan menerapkan kebijakan untuk menjaga biaya unit tetap dalam kisaran ini agar dapat menetapkan harga jual yang kompetitif, menjaga margin keuntungan, serta mengendalikan struktur biaya secara keseluruhan."
   ]
  },
  {
   "cell_type": "markdown",
   "id": "9619b308",
   "metadata": {},
   "source": [
    "### Expectation 3 --> to be in set\n",
    "```\n",
    "Expectation ini digunakan untuk memverifikasi bahwa seluruh nilai pada kolom 'customer_gender' \n",
    "terbatas hanya pada dua kategori valid, yaitu 'M' (Male) dan 'F' (Female).\n",
    "```"
   ]
  },
  {
   "cell_type": "code",
   "execution_count": 11,
   "id": "245ec503",
   "metadata": {},
   "outputs": [
    {
     "data": {
      "application/vnd.jupyter.widget-view+json": {
       "model_id": "4ed584f4593f409abafbafacc8664bb1",
       "version_major": 2,
       "version_minor": 0
      },
      "text/plain": [
       "Calculating Metrics:   0%|          | 0/8 [00:00<?, ?it/s]"
      ]
     },
     "metadata": {},
     "output_type": "display_data"
    },
    {
     "data": {
      "text/plain": [
       "{\n",
       "  \"meta\": {},\n",
       "  \"exception_info\": {\n",
       "    \"raised_exception\": false,\n",
       "    \"exception_traceback\": null,\n",
       "    \"exception_message\": null\n",
       "  },\n",
       "  \"success\": true,\n",
       "  \"result\": {\n",
       "    \"element_count\": 9866,\n",
       "    \"unexpected_count\": 0,\n",
       "    \"unexpected_percent\": 0.0,\n",
       "    \"partial_unexpected_list\": [],\n",
       "    \"missing_count\": 0,\n",
       "    \"missing_percent\": 0.0,\n",
       "    \"unexpected_percent_total\": 0.0,\n",
       "    \"unexpected_percent_nonmissing\": 0.0\n",
       "  }\n",
       "}"
      ]
     },
     "execution_count": 11,
     "metadata": {},
     "output_type": "execute_result"
    }
   ],
   "source": [
    "# Expectation 3 : Column `customer_gender` must contain one of the following 2 things (M and F)\n",
    "validator.expect_column_values_to_be_in_set(\n",
    "    \"customer_gender\",\n",
    "    ['M','F']\n",
    ")"
   ]
  },
  {
   "cell_type": "markdown",
   "id": "d59905cd",
   "metadata": {},
   "source": [
    "- Validasi terhadap kolom customer_gender berhasil. \n",
    "- Seluruh nilai berada dalam kategori yang diharapkan, yaitu 'M' dan 'F', tanpa adanya nilai yang tidak valid atau kosong"
   ]
  },
  {
   "cell_type": "markdown",
   "id": "ce85e40d",
   "metadata": {},
   "source": [
    "### Expectation 4 --> to be in type list\n",
    "```\n",
    "Expectation di bawah ini digunakan untuk memverifikasi bahwa seluruh nilai pada kolom 'customer_age'\n",
    "memiliki tipe data sesuai yang diharapkan, yaitu 'int64' karena usia pelanggan merupakan bilangan bulat tanpa nilai desimal.\n",
    "```"
   ]
  },
  {
   "cell_type": "code",
   "execution_count": 12,
   "id": "6acc820a",
   "metadata": {},
   "outputs": [
    {
     "data": {
      "application/vnd.jupyter.widget-view+json": {
       "model_id": "f496f405710643c1a4b33bb54825c6ff",
       "version_major": 2,
       "version_minor": 0
      },
      "text/plain": [
       "Calculating Metrics:   0%|          | 0/1 [00:00<?, ?it/s]"
      ]
     },
     "metadata": {},
     "output_type": "display_data"
    },
    {
     "data": {
      "text/plain": [
       "{\n",
       "  \"meta\": {},\n",
       "  \"exception_info\": {\n",
       "    \"raised_exception\": false,\n",
       "    \"exception_traceback\": null,\n",
       "    \"exception_message\": null\n",
       "  },\n",
       "  \"success\": true,\n",
       "  \"result\": {\n",
       "    \"observed_value\": \"int64\"\n",
       "  }\n",
       "}"
      ]
     },
     "execution_count": 12,
     "metadata": {},
     "output_type": "execute_result"
    }
   ],
   "source": [
    "# Expectation 4 : Column `customer_age` must in form of int64\n",
    "validator.expect_column_values_to_be_in_type_list(\n",
    "    'customer_age', \n",
    "    ['int64']\n",
    "    )"
   ]
  },
  {
   "cell_type": "markdown",
   "id": "aa570b8c",
   "metadata": {},
   "source": [
    "- Validasi pada kolom customer_age berhasil. \n",
    "- Seluruh nilai memiliki tipe data int64, yang sesuai untuk merepresentasikan usia sebagai bilangan bulat."
   ]
  },
  {
   "cell_type": "markdown",
   "id": "b0c098c8",
   "metadata": {},
   "source": [
    "### Expectation 5 --> to match strftime format\n",
    "```\n",
    "Expectation ini digunakan untuk memverifikasi bahwa seluruh nilai pada kolom 'date' \n",
    "mengikuti format standar ISO yang konsisten, yaitu '%Y-%m-%d'\n",
    "```"
   ]
  },
  {
   "cell_type": "code",
   "execution_count": 13,
   "id": "5f68cf7d",
   "metadata": {},
   "outputs": [
    {
     "data": {
      "application/vnd.jupyter.widget-view+json": {
       "model_id": "c7330c21e90f43529573e37955ea962e",
       "version_major": 2,
       "version_minor": 0
      },
      "text/plain": [
       "Calculating Metrics:   0%|          | 0/8 [00:00<?, ?it/s]"
      ]
     },
     "metadata": {},
     "output_type": "display_data"
    },
    {
     "data": {
      "text/plain": [
       "{\n",
       "  \"meta\": {},\n",
       "  \"exception_info\": {\n",
       "    \"raised_exception\": false,\n",
       "    \"exception_traceback\": null,\n",
       "    \"exception_message\": null\n",
       "  },\n",
       "  \"success\": true,\n",
       "  \"result\": {\n",
       "    \"element_count\": 9866,\n",
       "    \"unexpected_count\": 0,\n",
       "    \"unexpected_percent\": 0.0,\n",
       "    \"partial_unexpected_list\": [],\n",
       "    \"missing_count\": 0,\n",
       "    \"missing_percent\": 0.0,\n",
       "    \"unexpected_percent_total\": 0.0,\n",
       "    \"unexpected_percent_nonmissing\": 0.0\n",
       "  }\n",
       "}"
      ]
     },
     "execution_count": 13,
     "metadata": {},
     "output_type": "execute_result"
    }
   ],
   "source": [
    "# Expectation 6 : Column 'date' must match strftime format\n",
    "\n",
    "validator.expect_column_values_to_match_strftime_format('date', '%Y-%m-%d')"
   ]
  },
  {
   "cell_type": "markdown",
   "id": "26df114d",
   "metadata": {},
   "source": [
    "- Validasi format kolom date berhasil. \n",
    "- Seluruh nilai sesuai dengan format tanggal standar %Y-%m-%d, tanpa ada nilai yang salah format atau hilang."
   ]
  },
  {
   "cell_type": "markdown",
   "id": "ee43bc35",
   "metadata": {},
   "source": [
    "### Expectation 6 --> to not match regex\n",
    "```\n",
    "Expectation di bawah ini digunakan untuk memastikan bahwa nilai kolom `product_category` tidak\n",
    "ada karakter spesial/tidak valid\n",
    "```"
   ]
  },
  {
   "cell_type": "code",
   "execution_count": 16,
   "id": "e8c17dff",
   "metadata": {},
   "outputs": [
    {
     "data": {
      "application/vnd.jupyter.widget-view+json": {
       "model_id": "d509d0c68410467fac1872b63367c953",
       "version_major": 2,
       "version_minor": 0
      },
      "text/plain": [
       "Calculating Metrics:   0%|          | 0/8 [00:00<?, ?it/s]"
      ]
     },
     "metadata": {},
     "output_type": "display_data"
    },
    {
     "data": {
      "text/plain": [
       "{\n",
       "  \"meta\": {},\n",
       "  \"exception_info\": {\n",
       "    \"raised_exception\": false,\n",
       "    \"exception_traceback\": null,\n",
       "    \"exception_message\": null\n",
       "  },\n",
       "  \"success\": true,\n",
       "  \"result\": {\n",
       "    \"element_count\": 9866,\n",
       "    \"unexpected_count\": 0,\n",
       "    \"unexpected_percent\": 0.0,\n",
       "    \"partial_unexpected_list\": [],\n",
       "    \"missing_count\": 0,\n",
       "    \"missing_percent\": 0.0,\n",
       "    \"unexpected_percent_total\": 0.0,\n",
       "    \"unexpected_percent_nonmissing\": 0.0\n",
       "  }\n",
       "}"
      ]
     },
     "execution_count": 16,
     "metadata": {},
     "output_type": "execute_result"
    }
   ],
   "source": [
    "# Expectation 6: The 'product_category' column should not contain any characters other than letters, numbers, or spaces.\n",
    "validator.expect_column_values_to_not_match_regex(\n",
    "    column='product_category',\n",
    "    regex='[^a-zA-Z0-9\\s]'\n",
    ")"
   ]
  },
  {
   "cell_type": "markdown",
   "id": "68956a16",
   "metadata": {},
   "source": [
    "- Validasi pada kolom product_category berhasil. \n",
    "- Seluruh nilai tidak mengandung karakter selain huruf, angka, atau spasi"
   ]
  },
  {
   "cell_type": "markdown",
   "id": "0258be92",
   "metadata": {},
   "source": [
    "### Expectation 7 --> ExpectColumnPairValuesAToBeGreaterThanB\n",
    "```\n",
    "Expectation di bawah ini digunakan untuk memastikan nilai dari kolom 'revenue'\n",
    "harus lebih besar dari nilai kolom 'cost' karena pendapatan(revenue) harus \n",
    "lebih besar dari total biaya (cost). Jika tidak, berarti terjadi kerugian\n",
    "```"
   ]
  },
  {
   "cell_type": "code",
   "execution_count": 17,
   "id": "684f15e3",
   "metadata": {},
   "outputs": [
    {
     "data": {
      "application/vnd.jupyter.widget-view+json": {
       "model_id": "5eb6411e3f994997978e8c231f01ee41",
       "version_major": 2,
       "version_minor": 0
      },
      "text/plain": [
       "Calculating Metrics:   0%|          | 0/7 [00:00<?, ?it/s]"
      ]
     },
     "metadata": {},
     "output_type": "display_data"
    },
    {
     "data": {
      "text/plain": [
       "{\n",
       "  \"meta\": {},\n",
       "  \"exception_info\": {\n",
       "    \"raised_exception\": false,\n",
       "    \"exception_traceback\": null,\n",
       "    \"exception_message\": null\n",
       "  },\n",
       "  \"success\": true,\n",
       "  \"result\": {\n",
       "    \"element_count\": 9866,\n",
       "    \"unexpected_count\": 0,\n",
       "    \"unexpected_percent\": 0.0,\n",
       "    \"partial_unexpected_list\": [],\n",
       "    \"missing_count\": 0,\n",
       "    \"missing_percent\": 0.0,\n",
       "    \"unexpected_percent_total\": 0.0,\n",
       "    \"unexpected_percent_nonmissing\": 0.0\n",
       "  }\n",
       "}"
      ]
     },
     "execution_count": 17,
     "metadata": {},
     "output_type": "execute_result"
    }
   ],
   "source": [
    "validator.expect_column_pair_values_A_to_be_greater_than_B(\n",
    "    column_A='revenue',\n",
    "    column_B='cost'\n",
    ")"
   ]
  },
  {
   "cell_type": "markdown",
   "id": "e32c25db",
   "metadata": {},
   "source": [
    "- Validasi terhadap kolom revenue dan cost berhasil. \n",
    "- Seluruh nilai revenue terbukti lebih besar dari cost pada setiap baris, sesuai dengan logika bisnis bahwa pendapatan harus melebihi biaya"
   ]
  }
 ],
 "metadata": {
  "kernelspec": {
   "display_name": "base",
   "language": "python",
   "name": "python3"
  },
  "language_info": {
   "codemirror_mode": {
    "name": "ipython",
    "version": 3
   },
   "file_extension": ".py",
   "mimetype": "text/x-python",
   "name": "python",
   "nbconvert_exporter": "python",
   "pygments_lexer": "ipython3",
   "version": "3.9.21"
  }
 },
 "nbformat": 4,
 "nbformat_minor": 5
}
